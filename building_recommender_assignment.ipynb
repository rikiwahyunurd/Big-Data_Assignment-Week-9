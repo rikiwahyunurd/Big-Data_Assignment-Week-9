{
  "cells": [
    {
      "cell_type": "markdown",
      "metadata": {
        "id": "ZEVACF-QnQq8"
      },
      "source": [
        "#An on-line movie recommending service using Spark & Flask - Building the recommender"
      ]
    },
    {
      "cell_type": "markdown",
      "metadata": {
        "id": "RBTuUyLcnQrE"
      },
      "source": [
        "This notebook explains how to use the [MovieLens dataset](http://grouplens.org/datasets/movielens/) to build a movie recommender using [collaborative filtering](https://en.wikipedia.org/wiki/Recommender_system#Collaborative_filtering) with [Spark's Alternating Least Saqures](https://spark.apache.org/docs/latest/mllib-collaborative-filtering.html) implementation. It is organised in two parts. The first one is about getting and parsing movies and ratings data into Spark RDDs. The second is about building and using the recommender and persisting it for later use in our on-line recommender system.    "
      ]
    },
    {
      "cell_type": "markdown",
      "metadata": {
        "id": "qWUmURL3nQrF"
      },
      "source": [
        "This tutorial can be used independently to build a movie recommender model based on the MovieLens dataset. Most of the code in this first part, about how to use ALS with the public MovieLens dataset, comes from my solution to one of the exercises proposed in the [CS100.1x Introduction to Big Data with Apache Spark by Anthony D. Joseph on edX](https://www.edx.org/course/introduction-big-data-apache-spark-uc-berkeleyx-cs100-1x), that is also [**publicly available since 2014 at Spark Summit**](https://databricks-training.s3.amazonaws.com/movie-recommendation-with-mllib.html) . There I've added with minor modifications to use a larger dataset and also code about how to store and reload the model for later use. "
      ]
    },
    {
      "cell_type": "markdown",
      "metadata": {
        "id": "ljKzJcWv1Tqk"
      },
      "source": [
        "# Installing pyspark"
      ]
    },
    {
      "cell_type": "code",
      "execution_count": 16,
      "metadata": {
        "colab": {
          "base_uri": "https://localhost:8080/"
        },
        "id": "h8NWQNgy1eLi",
        "outputId": "26e0d352-db0d-4633-a8c9-4afecb4aa670"
      },
      "outputs": [
        {
          "name": "stdout",
          "output_type": "stream",
          "text": [
            "Looking in indexes: https://pypi.org/simple, https://us-python.pkg.dev/colab-wheels/public/simple/\n",
            "Requirement already satisfied: pyspark in /usr/local/lib/python3.9/dist-packages (3.4.0)\n",
            "Requirement already satisfied: py4j==0.10.9.7 in /usr/local/lib/python3.9/dist-packages (from pyspark) (0.10.9.7)\n"
          ]
        }
      ],
      "source": [
        "!pip install pyspark"
      ]
    },
    {
      "cell_type": "code",
      "execution_count": null,
      "metadata": {
        "colab": {
          "base_uri": "https://localhost:8080/",
          "height": 225
        },
        "id": "ePYc0syo1e7c",
        "outputId": "f6d55b52-ed9c-45d5-f6eb-2b84d5a5bc6e"
      },
      "outputs": [],
      "source": [
        "from pyspark import SparkConf, SparkContext\n",
        "conf = (SparkConf()\n",
        "         .setMaster(\"local\")\n",
        "         .setAppName(\"My Movie\")\n",
        "         .set(\"spark.executor.memory\", \"1g\"))\n",
        "sc = SparkContext(conf = conf)"
      ]
    },
    {
      "cell_type": "markdown",
      "metadata": {
        "id": "FrBW7XrPnQrG"
      },
      "source": [
        "##Getting and processing the data"
      ]
    },
    {
      "cell_type": "markdown",
      "metadata": {
        "id": "BzNkf4s1nQrH"
      },
      "source": [
        "In order to build an on-line movie recommender using Spark, we need to have our model data as preprocessed as possible. Parsing the dataset and building the model everytime a new recommendation needs to be done is not the best of the strategies."
      ]
    },
    {
      "cell_type": "markdown",
      "metadata": {
        "id": "p4g_Y9SinQrI"
      },
      "source": [
        "The list of task we can pre-compute includes:  \n",
        "\n",
        "- Loading and parsing the dataset. Persisting the resulting RDD for later use.  \n",
        "- Building the recommender model using the complete dataset. Persist the dataset for later use.  \n",
        "\n",
        "This notebook explains the first of these tasks.  "
      ]
    },
    {
      "cell_type": "markdown",
      "metadata": {
        "id": "pAEHqeT6nQrJ"
      },
      "source": [
        "###File download"
      ]
    },
    {
      "cell_type": "markdown",
      "metadata": {
        "id": "lcPOk1G7nQrK"
      },
      "source": [
        "GroupLens Research has collected and made available rating data sets from the [MovieLens web site](http://movielens.org). The data sets were collected over various periods of time, depending on the size of the set. They can be found [here](http://grouplens.org/datasets/movielens/).   "
      ]
    },
    {
      "cell_type": "markdown",
      "metadata": {
        "id": "see2v2qxnQrL"
      },
      "source": [
        "In our case, we will use the latest datasets:  \n",
        "\n",
        "- Small: 100,000 ratings and 2,488 tag applications applied to 8,570 movies by 706 users. Last updated 4/2015.  \n",
        "- Full: 21,000,000 ratings and 470,000 tag applications applied to 27,000 movies by 230,000 users. Last updated 4/2015.  \n"
      ]
    },
    {
      "cell_type": "code",
      "execution_count": 19,
      "metadata": {
        "id": "BO_FPeKXnQrM"
      },
      "outputs": [],
      "source": [
        "complete_dataset_url = 'http://files.grouplens.org/datasets/movielens/ml-latest.zip'\n",
        "small_dataset_url = 'http://files.grouplens.org/datasets/movielens/ml-latest-small.zip'"
      ]
    },
    {
      "cell_type": "markdown",
      "metadata": {
        "id": "acScOWb8nQrP"
      },
      "source": [
        "We also need to define download locations."
      ]
    },
    {
      "cell_type": "code",
      "execution_count": 20,
      "metadata": {
        "colab": {
          "base_uri": "https://localhost:8080/"
        },
        "id": "pAR0xrDanQrQ",
        "outputId": "be66a7f7-6cb4-460f-e09c-de00045dfdb3"
      },
      "outputs": [
        {
          "name": "stdout",
          "output_type": "stream",
          "text": [
            "Drive already mounted at /content/gdrive; to attempt to forcibly remount, call drive.mount(\"/content/gdrive\", force_remount=True).\n"
          ]
        }
      ],
      "source": [
        "from google.colab import drive\n",
        "import urllib.request\n",
        "import os\n",
        "\n",
        "# Mount your Google Drive to access files\n",
        "drive.mount('/content/gdrive')\n",
        "\n",
        "# Create a directory for the datasets\n",
        "datasets_path = '/content/gdrive/My Drive/datasets'\n",
        "if not os.path.exists(datasets_path):\n",
        "    os.makedirs(datasets_path)\n",
        "\n",
        "# Set the paths for the datasets\n",
        "complete_dataset_path = os.path.join(datasets_path, 'ml-latest.zip')\n",
        "small_dataset_path = os.path.join(datasets_path, 'ml-latest-small.zip')\n",
        "\n",
        "# Download the datasets\n",
        "complete_dataset_url = 'http://files.grouplens.org/datasets/movielens/ml-latest.zip'\n",
        "small_dataset_url = 'http://files.grouplens.org/datasets/movielens/ml-latest-small.zip'\n"
      ]
    },
    {
      "cell_type": "markdown",
      "metadata": {
        "id": "oNl40bAanQrR"
      },
      "source": [
        "Now we can proceed with both downloads."
      ]
    },
    {
      "cell_type": "code",
      "execution_count": 21,
      "metadata": {
        "id": "eJL6vN_ynQrS"
      },
      "outputs": [],
      "source": [
        "import urllib.request\n",
        "\n",
        "\n",
        "small_f = urllib.request.urlretrieve (small_dataset_url, small_dataset_path)\n",
        "complete_f = urllib.request.urlretrieve (complete_dataset_url, complete_dataset_path)"
      ]
    },
    {
      "cell_type": "markdown",
      "metadata": {
        "id": "efsmXksWnQrS"
      },
      "source": [
        "Both of them are zip files containing a folder with ratings, movies, etc. We need to extract them into its individual folders so we can use each file later on.  "
      ]
    },
    {
      "cell_type": "code",
      "execution_count": 22,
      "metadata": {
        "id": "KODEu9f6nQrT"
      },
      "outputs": [],
      "source": [
        "import zipfile\n",
        "\n",
        "with zipfile.ZipFile(small_dataset_path, \"r\") as z:\n",
        "    z.extractall(datasets_path)\n",
        "\n",
        "with zipfile.ZipFile(complete_dataset_path, \"r\") as z:\n",
        "    z.extractall(datasets_path)"
      ]
    },
    {
      "cell_type": "markdown",
      "metadata": {
        "id": "nUQqXE4anQrU"
      },
      "source": [
        "###Loading and parsing datasets"
      ]
    },
    {
      "cell_type": "markdown",
      "metadata": {
        "id": "xFMjyfVrnQrU"
      },
      "source": [
        "No we are ready to read in each of the files and create an RDD consisting of parsed lines.  "
      ]
    },
    {
      "cell_type": "markdown",
      "metadata": {
        "id": "B2qOWTrgnQrV"
      },
      "source": [
        "Each line in the ratings dataset (`ratings.csv`) is formatted as:  \n",
        "\n",
        "`userId,movieId,rating,timestamp`  \n",
        "\n",
        "Each line in the movies (`movies.csv`) dataset is formatted as:  \n",
        "\n",
        "`movieId,title,genres`  \n",
        "\n",
        "Were *genres* has the format:  \n",
        "\n",
        "`Genre1|Genre2|Genre3...`\n",
        "\n",
        "The tags file (`tags.csv`) has the format:  \n",
        "\n",
        "`userId,movieId,tag,timestamp`  \n",
        "\n",
        "And finally, the `links.csv` file has the format:  \n",
        "\n",
        "`movieId,imdbId,tmdbId`  "
      ]
    },
    {
      "cell_type": "markdown",
      "metadata": {
        "id": "nxbdRLOcnQrW"
      },
      "source": [
        "The format of these files is uniform and simple, so we can use Python [`split()`](https://docs.python.org/2/library/stdtypes.html#str.split) to parse their lines once they are loaded into RDDs. Parsing the movies and ratings files yields two RDDs:  \n",
        "\n",
        "* For each line in the ratings dataset, we create a tuple of `(UserID, MovieID, Rating)`. We drop the *timestamp* because we do not need it for this recommender.  \n",
        "* For each line in the movies dataset, we create a tuple of `(MovieID, Title)`. We drop the *genres* because we do not use them for this recommender.  "
      ]
    },
    {
      "cell_type": "markdown",
      "metadata": {
        "id": "EQCL94GDnQrX"
      },
      "source": [
        "So let's load the raw ratings data. We need to filter out the header, included in each file.    "
      ]
    },
    {
      "cell_type": "code",
      "execution_count": 23,
      "metadata": {
        "id": "8axQkJG3nQrX"
      },
      "outputs": [],
      "source": [
        "small_ratings_file = os.path.join(datasets_path, 'ml-latest-small', 'ratings.csv')\n",
        "\n",
        "small_ratings_raw_data = sc.textFile(small_ratings_file)\n",
        "small_ratings_raw_data_header = small_ratings_raw_data.take(1)[0]"
      ]
    },
    {
      "cell_type": "markdown",
      "metadata": {
        "id": "nyVi2cFnnQrY"
      },
      "source": [
        "Now we can parse the raw data into a new RDD.  "
      ]
    },
    {
      "cell_type": "code",
      "execution_count": 24,
      "metadata": {
        "id": "v1fmwMvqnQrZ"
      },
      "outputs": [],
      "source": [
        "small_ratings_data = small_ratings_raw_data.filter(lambda line: line!=small_ratings_raw_data_header)\\\n",
        "    .map(lambda line: line.split(\",\")).map(lambda tokens: (tokens[0],tokens[1],tokens[2])).cache()"
      ]
    },
    {
      "cell_type": "markdown",
      "metadata": {
        "id": "HycsTodEnQrZ"
      },
      "source": [
        "For illustrative purposes, we can take the first few lines of our RDD to see the result. In the final script we don't call any Spark action (e.g. `take`) until needed, since they trigger actual computations in the cluster.  "
      ]
    },
    {
      "cell_type": "code",
      "execution_count": 25,
      "metadata": {
        "colab": {
          "base_uri": "https://localhost:8080/"
        },
        "id": "ZIWMzNh1nQra",
        "outputId": "095c531a-784a-4162-aca2-88d1ba06c31b"
      },
      "outputs": [
        {
          "data": {
            "text/plain": [
              "[('1', '1', '4.0'), ('1', '3', '4.0'), ('1', '6', '4.0')]"
            ]
          },
          "execution_count": 25,
          "metadata": {},
          "output_type": "execute_result"
        }
      ],
      "source": [
        "small_ratings_data.take(3)"
      ]
    },
    {
      "cell_type": "markdown",
      "metadata": {
        "id": "a_R_airknQrd"
      },
      "source": [
        "We proceed in a similar way with the `movies.csv` file."
      ]
    },
    {
      "cell_type": "code",
      "execution_count": 26,
      "metadata": {
        "colab": {
          "base_uri": "https://localhost:8080/"
        },
        "id": "lNCwoR72nQrd",
        "outputId": "e87a261f-557e-4133-d933-bfaa1672e091"
      },
      "outputs": [
        {
          "data": {
            "text/plain": [
              "[('1', 'Toy Story (1995)'),\n",
              " ('2', 'Jumanji (1995)'),\n",
              " ('3', 'Grumpier Old Men (1995)')]"
            ]
          },
          "execution_count": 26,
          "metadata": {},
          "output_type": "execute_result"
        }
      ],
      "source": [
        "small_movies_file = os.path.join(datasets_path, 'ml-latest-small', 'movies.csv')\n",
        "\n",
        "small_movies_raw_data = sc.textFile(small_movies_file)\n",
        "small_movies_raw_data_header = small_movies_raw_data.take(1)[0]\n",
        "\n",
        "small_movies_data = small_movies_raw_data.filter(lambda line: line!=small_movies_raw_data_header)\\\n",
        "    .map(lambda line: line.split(\",\")).map(lambda tokens: (tokens[0],tokens[1])).cache()\n",
        "    \n",
        "small_movies_data.take(3)"
      ]
    },
    {
      "cell_type": "markdown",
      "metadata": {
        "id": "UdOGRLpynQre"
      },
      "source": [
        "The following sections introduce *Collaborative Filtering* and explain how to use *Spark MLlib* to build a recommender model. We will close the tutorial by explaining how a model such this is used to make recommendations, and how to persist it for later use (e.g. in our Python/flask web-service)."
      ]
    },
    {
      "cell_type": "markdown",
      "metadata": {
        "id": "NM91dEFTnQrf"
      },
      "source": [
        "##Collaborative Filtering"
      ]
    },
    {
      "cell_type": "markdown",
      "metadata": {
        "id": "UbHDfkUJnQrg"
      },
      "source": [
        "In Collaborative filtering we make predictions (filtering) about the interests of a user by collecting preferences or taste information from many users (collaborating). The underlying assumption is that if a user A has the same opinion as a user B on an issue, A is more likely to have B's opinion on a different issue x than to have the opinion on x of a user chosen randomly.  "
      ]
    },
    {
      "cell_type": "markdown",
      "metadata": {
        "id": "Yac3dN9wnQrg"
      },
      "source": [
        "The image below (from [Wikipedia](https://en.wikipedia.org/?title=Collaborative_filtering)) shows an example of collaborative filtering. At first, people rate different items (like videos, images, games). Then, the system makes predictions about a user's rating for an item not rated yet. The new predictions are built upon the existing ratings of other users with similar ratings with the active user. In the image, the system predicts that the user will not like the video.  "
      ]
    },
    {
      "cell_type": "markdown",
      "metadata": {
        "id": "rvjnFZRynQrh"
      },
      "source": [
        "![collaborative filtering](https://upload.wikimedia.org/wikipedia/commons/5/52/Collaborative_filtering.gif)"
      ]
    },
    {
      "cell_type": "markdown",
      "metadata": {
        "id": "GxufxAf4nQrh"
      },
      "source": [
        "Spark MLlib library for Machine Learning provides a [Collaborative Filtering](https://spark.apache.org/docs/latest/mllib-collaborative-filtering.html) implementation by using [Alternating Least Squares](http://dl.acm.org/citation.cfm?id=1608614). The implementation in MLlib has the following parameters:  \n",
        "\n",
        "- numBlocks is the number of blocks used to parallelize computation (set to -1 to auto-configure).  \n",
        "- rank is the number of latent factors in the model.  \n",
        "- iterations is the number of iterations to run.  \n",
        "- lambda specifies the regularization parameter in ALS.  \n",
        "- implicitPrefs specifies whether to use the explicit feedback ALS variant or one adapted for implicit feedback data.  \n",
        "- alpha is a parameter applicable to the implicit feedback variant of ALS that governs the baseline confidence in preference observations.  \n"
      ]
    },
    {
      "cell_type": "markdown",
      "metadata": {
        "id": "pzxt0HwCnQri"
      },
      "source": [
        "##Selecting ALS parameters using the small dataset"
      ]
    },
    {
      "cell_type": "markdown",
      "metadata": {
        "id": "IGh1-ondnQrj"
      },
      "source": [
        "In order to determine the best ALS parameters, we will use the small dataset. We need first to split it into train, validation, and test datasets."
      ]
    },
    {
      "cell_type": "code",
      "execution_count": 27,
      "metadata": {
        "id": "v70pM3ASnQrj"
      },
      "outputs": [],
      "source": [
        "training_RDD, validation_RDD, test_RDD = small_ratings_data.randomSplit([6, 2, 2], seed=0)\n",
        "validation_for_predict_RDD = validation_RDD.map(lambda x: (x[0], x[1]))\n",
        "test_for_predict_RDD = test_RDD.map(lambda x: (x[0], x[1]))"
      ]
    },
    {
      "cell_type": "markdown",
      "metadata": {
        "id": "jntVUfHanQrk"
      },
      "source": [
        "Now we can proceed with the training phase. "
      ]
    },
    {
      "cell_type": "code",
      "execution_count": 28,
      "metadata": {
        "id": "xs0rkPY6nQrl"
      },
      "outputs": [],
      "source": [
        "# from pyspark.mllib.recommendation import ALS\n",
        "# import math\n",
        "\n",
        "# seed = 5\n",
        "# iterations = 10\n",
        "# regularization_parameter = 0.1\n",
        "# ranks = [4, 8, 12]\n",
        "# errors = [0, 0, 0]\n",
        "# err = 0\n",
        "# tolerance = 0.02\n",
        "\n",
        "# min_error = float('inf')\n",
        "# best_rank = -1\n",
        "# best_iteration = -1\n",
        "# for rank in ranks:\n",
        "#     model = ALS.train(training_RDD, rank, seed=seed, iterations=iterations,\n",
        "#                       lambda_=regularization_parameter)\n",
        "#     predictions = model.predictAll(validation_for_predict_RDD).map(lambda r: ((r[0], r[1]), r[2]))\n",
        "#     rates_and_preds = validation_RDD.map(lambda r: ((int(r[0]), int(r[1])), float(r[2]))).join(predictions)\n",
        "#     error = math.sqrt(rates_and_preds.map(lambda r: (r[1][0] - r[1][1])**2).mean())\n",
        "#     errors[err] = error\n",
        "#     err += 1\n",
        "#     print('For rank %s the RMSE is %s' % (rank, error))\n",
        "#     if error < min_error:\n",
        "#         min_error = error\n",
        "#         best_rank = rank\n",
        "\n",
        "# print('The best model was trained with rank %s' % best_rank)"
      ]
    },
    {
      "cell_type": "markdown",
      "metadata": {
        "id": "vCDhORTD8Oal"
      },
      "source": [
        "Modification: Add additional inner loop to combine it with iteration using values 5, 10, and 20."
      ]
    },
    {
      "cell_type": "code",
      "execution_count": 29,
      "metadata": {
        "colab": {
          "base_uri": "https://localhost:8080/"
        },
        "id": "4-1ZtZb48Y26",
        "outputId": "a2b02d9c-556f-4509-b823-79eb59f63a56"
      },
      "outputs": [
        {
          "name": "stdout",
          "output_type": "stream",
          "text": [
            "For rank 4 and 5 iterations the RMSE is 0.9011709927955697\n",
            "For rank 4 and 10 iterations the RMSE is 0.8973056095511496\n",
            "For rank 4 and 20 iterations the RMSE is 0.8976167439688152\n",
            "For rank 8 and 5 iterations the RMSE is 0.9182579261394626\n",
            "For rank 8 and 10 iterations the RMSE is 0.9143149057530106\n",
            "For rank 8 and 20 iterations the RMSE is 0.9096838625061191\n",
            "For rank 12 and 5 iterations the RMSE is 0.921253882438378\n",
            "For rank 12 and 10 iterations the RMSE is 0.9141049213609704\n",
            "For rank 12 and 20 iterations the RMSE is 0.9114143445204184\n",
            "The best model was trained with rank 4 and 10 iterations\n"
          ]
        }
      ],
      "source": [
        "from pyspark.mllib.recommendation import ALS\n",
        "import math\n",
        "\n",
        "seed = 5\n",
        "regularization_parameter = 0.1\n",
        "ranks = [4, 8, 12]\n",
        "iterations_list = [5, 10, 20]\n",
        "errors = {}\n",
        "\n",
        "tolerance = 0.02\n",
        "\n",
        "min_error = float('inf')\n",
        "best_rank = -1\n",
        "best_iteration = -1\n",
        "\n",
        "for rank in ranks:\n",
        "    for iterations in iterations_list:\n",
        "        model = ALS.train(training_RDD, rank, seed=seed, iterations=iterations,\n",
        "                          lambda_=regularization_parameter)\n",
        "        predictions = model.predictAll(validation_for_predict_RDD).map(lambda r: ((r[0], r[1]), r[2]))\n",
        "        rates_and_preds = validation_RDD.map(lambda r: ((int(r[0]), int(r[1])), float(r[2]))).join(predictions)\n",
        "        error = math.sqrt(rates_and_preds.map(lambda r: (r[1][0] - r[1][1])**2).mean())\n",
        "        errors[(rank, iterations)] = error\n",
        "        print('For rank %s and %s iterations the RMSE is %s' % (rank, iterations, error))\n",
        "        if error < min_error:\n",
        "            min_error = error\n",
        "            best_rank = rank\n",
        "            best_iteration = iterations\n",
        "\n",
        "print('The best model was trained with rank %s and %s iterations' % (best_rank, best_iteration))\n"
      ]
    },
    {
      "cell_type": "markdown",
      "metadata": {
        "id": "hOMhYIFmnQrm"
      },
      "source": [
        "But let's explain this a little bit. First, let's have a look at how our predictions look.  "
      ]
    },
    {
      "cell_type": "code",
      "execution_count": 30,
      "metadata": {
        "colab": {
          "base_uri": "https://localhost:8080/"
        },
        "id": "XjQCw-QfnQrn",
        "outputId": "9cd0cf72-ce66-47e3-cf31-04e19d0fa010"
      },
      "outputs": [
        {
          "data": {
            "text/plain": [
              "[((249, 69069), 3.3934397821757107),\n",
              " ((68, 69069), 3.1020751354501686),\n",
              " ((402, 667), 3.3232861192711587)]"
            ]
          },
          "execution_count": 30,
          "metadata": {},
          "output_type": "execute_result"
        }
      ],
      "source": [
        "predictions.take(3)"
      ]
    },
    {
      "cell_type": "markdown",
      "metadata": {
        "id": "ux0BqMO_nQrn"
      },
      "source": [
        "Basically we have the UserID, the MovieID, and the Rating, as we have in our ratings dataset. In this case the predictions third element, the rating for that movie and user, is the predicted by our ALS model."
      ]
    },
    {
      "cell_type": "markdown",
      "metadata": {
        "id": "aXh5VGVPnQro"
      },
      "source": [
        "Then we join these with our validation data (the one that includes ratings) and the result looks as follows:  "
      ]
    },
    {
      "cell_type": "code",
      "execution_count": 31,
      "metadata": {
        "colab": {
          "base_uri": "https://localhost:8080/"
        },
        "id": "ShSSikg5nQrp",
        "outputId": "843eb7a7-8314-4908-a1b5-e76b2e35ac9f"
      },
      "outputs": [
        {
          "data": {
            "text/plain": [
              "[((1, 47), (5.0, 4.4767133687341)),\n",
              " ((1, 163), (5.0, 3.9194227023510884)),\n",
              " ((1, 223), (3.0, 4.251849035085814))]"
            ]
          },
          "execution_count": 31,
          "metadata": {},
          "output_type": "execute_result"
        }
      ],
      "source": [
        "rates_and_preds.take(3)"
      ]
    },
    {
      "cell_type": "markdown",
      "metadata": {
        "id": "HhhgG2-rnQrp"
      },
      "source": [
        "To that, we apply a squared difference and the we use the `mean()` action to get the MSE and apply `sqrt`."
      ]
    },
    {
      "cell_type": "markdown",
      "metadata": {
        "id": "B9DkuEnCnQrq"
      },
      "source": [
        "Finally we test the selected model."
      ]
    },
    {
      "cell_type": "code",
      "execution_count": 32,
      "metadata": {
        "colab": {
          "base_uri": "https://localhost:8080/"
        },
        "id": "KYQaiuDRnQrr",
        "outputId": "ba7ad840-a257-4131-e4c5-28c67e92f9ae"
      },
      "outputs": [
        {
          "name": "stdout",
          "output_type": "stream",
          "text": [
            "For testing data the RMSE is 0.9004115477620552\n"
          ]
        }
      ],
      "source": [
        "model = ALS.train(training_RDD, best_rank, seed=seed, iterations=iterations,\n",
        "                      lambda_=regularization_parameter)\n",
        "predictions = model.predictAll(test_for_predict_RDD).map(lambda r: ((r[0], r[1]), r[2]))\n",
        "rates_and_preds = test_RDD.map(lambda r: ((int(r[0]), int(r[1])), float(r[2]))).join(predictions)\n",
        "error = math.sqrt(rates_and_preds.map(lambda r: (r[1][0] - r[1][1])**2).mean())\n",
        "    \n",
        "print('For testing data the RMSE is %s' % (error))"
      ]
    },
    {
      "cell_type": "markdown",
      "metadata": {
        "id": "MyCSyE_gnQrs"
      },
      "source": [
        "##Using the complete dataset to build the final model"
      ]
    },
    {
      "cell_type": "markdown",
      "metadata": {
        "id": "jtwxTkOjnQrs"
      },
      "source": [
        "In order to build our recommender model, we will use the complete dataset. Therefore, we need to process it the same way we did with the small dataset.   "
      ]
    },
    {
      "cell_type": "code",
      "execution_count": 33,
      "metadata": {
        "colab": {
          "base_uri": "https://localhost:8080/"
        },
        "id": "0kb_v_JrnQrt",
        "outputId": "74888391-3e45-49f7-8d42-47b84a0fd20a"
      },
      "outputs": [
        {
          "name": "stdout",
          "output_type": "stream",
          "text": [
            "There are 27753444 recommendations in the complete dataset\n"
          ]
        }
      ],
      "source": [
        "# Load the complete dataset file\n",
        "complete_ratings_file = os.path.join(datasets_path, 'ml-latest', 'ratings.csv')\n",
        "complete_ratings_raw_data = sc.textFile(complete_ratings_file)\n",
        "complete_ratings_raw_data_header = complete_ratings_raw_data.take(1)[0]\n",
        "\n",
        "# Parse\n",
        "complete_ratings_data = complete_ratings_raw_data.filter(lambda line: line!=complete_ratings_raw_data_header)\\\n",
        "    .map(lambda line: line.split(\",\")).map(lambda tokens: (int(tokens[0]),int(tokens[1]),float(tokens[2]))).cache()\n",
        "    \n",
        "print(\"There are %s recommendations in the complete dataset\" % (complete_ratings_data.count()))"
      ]
    },
    {
      "cell_type": "markdown",
      "metadata": {
        "id": "T1P3PEwvnQru"
      },
      "source": [
        "Now we are ready to train the recommender model."
      ]
    },
    {
      "cell_type": "code",
      "execution_count": 34,
      "metadata": {
        "id": "IP8DXJr-nQru"
      },
      "outputs": [],
      "source": [
        "training_RDD, test_RDD = complete_ratings_data.randomSplit([7, 3], seed=0)\n",
        "\n",
        "complete_model = ALS.train(training_RDD, best_rank, seed=seed, \n",
        "                           iterations=iterations, lambda_=regularization_parameter)"
      ]
    },
    {
      "cell_type": "markdown",
      "metadata": {
        "id": "gtUblqXDnQrv"
      },
      "source": [
        "Now we test on our testing set.  "
      ]
    },
    {
      "cell_type": "code",
      "execution_count": null,
      "metadata": {
        "id": "Y-JKi1tQnQrv"
      },
      "outputs": [],
      "source": [
        "test_for_predict_RDD = test_RDD.map(lambda x: (x[0], x[1]))\n",
        "\n",
        "predictions = complete_model.predictAll(test_for_predict_RDD).map(lambda r: ((r[0], r[1]), r[2]))\n",
        "rates_and_preds = test_RDD.map(lambda r: ((int(r[0]), int(r[1])), float(r[2]))).join(predictions)\n",
        "error = math.sqrt(rates_and_preds.map(lambda r: (r[1][0] - r[1][1])**2).mean())\n",
        "    \n",
        "print('For testing data the RMSE is %s' % (error))"
      ]
    },
    {
      "cell_type": "markdown",
      "metadata": {
        "id": "CbRqORXcnQrw"
      },
      "source": [
        "We can see how we got a more accurate recommender when using a much larger dataset.  "
      ]
    },
    {
      "cell_type": "markdown",
      "metadata": {
        "id": "MtvPPOjJnQrx"
      },
      "source": [
        "##How to make recommendations"
      ]
    },
    {
      "cell_type": "markdown",
      "metadata": {
        "id": "8abQgvdRnQrx"
      },
      "source": [
        "Although we aim at building an on-line movie recommender, now that we know how to have our recommender model ready, we can give it a try providing some movie recommendations. This will help us coiding the recommending engine later on when building the web service, and will explain how to use the model in any other circumstances.  "
      ]
    },
    {
      "cell_type": "markdown",
      "metadata": {
        "id": "vSnI5mFinQry"
      },
      "source": [
        "When using collaborative filtering, getting recommendations is not as simple as predicting for the new entries using a previously generated model. Instead, we need to train again the model but including the new user preferences in order to compare them with other users in the dataset. That is, the recommender needs to be trained every time we have new user ratings (although a single model can be used by multiple users of course!). This makes the process expensive, and it is one of the reasons why scalability is a problem (and Spark a solution!). Once we have our model trained, we can reuse it to obtain top recomendations for a given user or an individual rating for a particular movie. These are less costly operations than training the model itself.    "
      ]
    },
    {
      "cell_type": "markdown",
      "metadata": {
        "id": "bvx176oGnQrz"
      },
      "source": [
        "So let's first load the movies complete file for later use."
      ]
    },
    {
      "cell_type": "code",
      "execution_count": null,
      "metadata": {
        "id": "cIm9lf0pnQrz"
      },
      "outputs": [],
      "source": [
        "complete_movies_file = os.path.join(datasets_path, 'ml-latest', 'movies.csv')\n",
        "complete_movies_raw_data = sc.textFile(complete_movies_file)\n",
        "complete_movies_raw_data_header = complete_movies_raw_data.take(1)[0]\n",
        "\n",
        "# Parse\n",
        "complete_movies_data = complete_movies_raw_data.filter(lambda line: line!=complete_movies_raw_data_header)\\\n",
        "    .map(lambda line: line.split(\",\")).map(lambda tokens: (int(tokens[0]),tokens[1],tokens[2])).cache()\n",
        "\n",
        "complete_movies_titles = complete_movies_data.map(lambda x: (int(x[0]),x[1]))\n",
        "    \n",
        "print(\"There are %s movies in the complete dataset\" % (complete_movies_titles.count()))"
      ]
    },
    {
      "cell_type": "markdown",
      "metadata": {
        "id": "x_dfqBO0nQr0"
      },
      "source": [
        "Another thing we want to do, is give recommendations of movies with a certain minimum number of ratings. For that, we need to count the number of ratings per movie.  "
      ]
    },
    {
      "cell_type": "code",
      "execution_count": null,
      "metadata": {
        "id": "XHx0ZfxDnQr1"
      },
      "outputs": [],
      "source": [
        "def get_counts_and_averages(ID_and_ratings_tuple):\n",
        "    nratings = len(ID_and_ratings_tuple[1])\n",
        "    return ID_and_ratings_tuple[0], (nratings, float(sum(x for x in ID_and_ratings_tuple[1]))/nratings)\n",
        "\n",
        "movie_ID_with_ratings_RDD = (complete_ratings_data.map(lambda x: (x[1], x[2])).groupByKey())\n",
        "movie_ID_with_avg_ratings_RDD = movie_ID_with_ratings_RDD.map(get_counts_and_averages)\n",
        "movie_rating_counts_RDD = movie_ID_with_avg_ratings_RDD.map(lambda x: (x[0], x[1][0]))"
      ]
    },
    {
      "cell_type": "markdown",
      "metadata": {
        "id": "JqksPk1DnQr2"
      },
      "source": [
        "###Adding new user ratings"
      ]
    },
    {
      "cell_type": "markdown",
      "metadata": {
        "id": "lezVwTESnQr2"
      },
      "source": [
        "Now we need to rate some movies for the new user. We will put them in a new RDD and we will use the user ID 0, that is not assigned in the MovieLens dataset. Check the [dataset](http://grouplens.org/datasets/movielens/) movies file for ID to Tittle assignment (so you know what movies are you actually rating).   "
      ]
    },
    {
      "cell_type": "code",
      "execution_count": null,
      "metadata": {
        "id": "gu2pbTa_nQr3"
      },
      "outputs": [],
      "source": [
        "new_user_ID = 0\n",
        "\n",
        "# The format of each line is (userID, movieID, rating)\n",
        "new_user_ratings = [\n",
        "     (0,260,9), # Star Wars (1977)\n",
        "     (0,1,8), # Toy Story (1995)\n",
        "     (0,16,7), # Casino (1995)\n",
        "     (0,25,8), # Leaving Las Vegas (1995)\n",
        "     (0,32,9), # Twelve Monkeys (a.k.a. 12 Monkeys) (1995)\n",
        "     (0,335,4), # Flintstones, The (1994)\n",
        "     (0,379,3), # Timecop (1994)\n",
        "     (0,296,7), # Pulp Fiction (1994)\n",
        "     (0,858,10) , # Godfather, The (1972)\n",
        "     (0,50,8) # Usual Suspects, The (1995)\n",
        "    ]\n",
        "new_user_ratings_RDD = sc.parallelize(new_user_ratings)\n",
        "print('New user ratings: %s' % new_user_ratings_RDD.take(10))"
      ]
    },
    {
      "cell_type": "markdown",
      "metadata": {
        "id": "HZxrlJDonQr4"
      },
      "source": [
        "Now we add them to the data we will use to train our recommender model. We use Spark's `union()` transformation for this.  "
      ]
    },
    {
      "cell_type": "code",
      "execution_count": null,
      "metadata": {
        "id": "nkt_lbaonQr4"
      },
      "outputs": [],
      "source": [
        "complete_data_with_new_ratings_RDD = complete_ratings_data.union(new_user_ratings_RDD)"
      ]
    },
    {
      "cell_type": "markdown",
      "metadata": {
        "id": "kI6que00nQr5"
      },
      "source": [
        "And finally we train the ALS model using all the parameters we selected before (when using the small dataset)."
      ]
    },
    {
      "cell_type": "code",
      "execution_count": null,
      "metadata": {
        "id": "0k5Bb8dPnQr5"
      },
      "outputs": [],
      "source": [
        "from time import time\n",
        "\n",
        "t0 = time()\n",
        "new_ratings_model = ALS.train(complete_data_with_new_ratings_RDD, best_rank, seed=seed, \n",
        "                              iterations=iterations, lambda_=regularization_parameter)\n",
        "tt = time() - t0\n",
        "\n",
        "print(\"New model trained in %s seconds\" % round(tt,3))"
      ]
    },
    {
      "cell_type": "markdown",
      "metadata": {
        "id": "TXY5wcf6nQr6"
      },
      "source": [
        "It took some time. We will need to repeat that every time a user add new ratings. Ideally we will do this in batches, and not for every single rating that comes into the system for every user."
      ]
    },
    {
      "cell_type": "markdown",
      "metadata": {
        "id": "_ngIUXyxnQr6"
      },
      "source": [
        "###Getting top recommendations"
      ]
    },
    {
      "cell_type": "markdown",
      "metadata": {
        "id": "QYugCZb4nQr7"
      },
      "source": [
        "Let's now get some recommendations! For that we will get an RDD with all the movies the new user hasn't rated yet. We will them together with the model to predict ratings.  "
      ]
    },
    {
      "cell_type": "code",
      "execution_count": null,
      "metadata": {
        "id": "uSyRplaOnQr7"
      },
      "outputs": [],
      "source": [
        "new_user_ratings_ids = map(lambda x: x[1], new_user_ratings) # get just movie IDs\n",
        "# keep just those not on the ID list (thanks Lei Li for spotting the error!)\n",
        "new_user_unrated_movies_RDD = (complete_movies_data.filter(lambda x: x[0] not in new_user_ratings_ids).map(lambda x: (new_user_ID, x[0])))\n",
        "\n",
        "# Use the input RDD, new_user_unrated_movies_RDD, with new_ratings_model.predictAll() to predict new ratings for the movies\n",
        "new_user_recommendations_RDD = new_ratings_model.predictAll(new_user_unrated_movies_RDD)"
      ]
    },
    {
      "cell_type": "markdown",
      "metadata": {
        "id": "K6onHZzHnQr8"
      },
      "source": [
        "We have our recommendations ready. Now we can print out the 25 movies with the highest predicted ratings. And join them with the movies RDD to get the titles, and ratings count in order to get movies with a minimum number of counts. First we will do the join and see what does the result looks like."
      ]
    },
    {
      "cell_type": "code",
      "execution_count": null,
      "metadata": {
        "id": "y3eQuXHgnQr8"
      },
      "outputs": [],
      "source": [
        "# Transform new_user_recommendations_RDD into pairs of the form (Movie ID, Predicted Rating)\n",
        "new_user_recommendations_rating_RDD = new_user_recommendations_RDD.map(lambda x: (x.product, x.rating))\n",
        "new_user_recommendations_rating_title_and_count_RDD = \\\n",
        "    new_user_recommendations_rating_RDD.join(complete_movies_titles).join(movie_rating_counts_RDD)\n",
        "new_user_recommendations_rating_title_and_count_RDD.take(3)"
      ]
    },
    {
      "cell_type": "markdown",
      "metadata": {
        "id": "Q40b_hJPnQr9"
      },
      "source": [
        "So we need to flat this down a bit in order to have `(Title, Rating, Ratings Count)`."
      ]
    },
    {
      "cell_type": "code",
      "execution_count": null,
      "metadata": {
        "id": "hlRTnPb-nQr9"
      },
      "outputs": [],
      "source": [
        "new_user_recommendations_rating_title_and_count_RDD = \\\n",
        "    new_user_recommendations_rating_title_and_count_RDD.map(lambda r: (r[1][0][1], r[1][0][0], r[1][1]))"
      ]
    },
    {
      "cell_type": "markdown",
      "metadata": {
        "id": "DT3ExL1TnQr9"
      },
      "source": [
        "Finally, get the highest rated recommendations for the new user, filtering out movies with less than 25 ratings."
      ]
    },
    {
      "cell_type": "code",
      "execution_count": null,
      "metadata": {
        "id": "79dDCNXJnQr9"
      },
      "outputs": [],
      "source": [
        "top_movies = new_user_recommendations_rating_title_and_count_RDD.filter(lambda r: r[2]>=25).takeOrdered(25, key=lambda x: -x[1])\n",
        "\n",
        "print('TOP recommended movies (with more than 25 reviews):\\n%s' %\n",
        "        '\\n'.join(map(str, top_movies)))"
      ]
    },
    {
      "cell_type": "markdown",
      "metadata": {
        "id": "GrNDVWMrnQr9"
      },
      "source": [
        "###Getting individual ratings"
      ]
    },
    {
      "cell_type": "markdown",
      "metadata": {
        "id": "c_c8vH4jnQr-"
      },
      "source": [
        "Another useful usecase is getting the predicted rating for a particular movie for a given user. The process is similar to the previous retreival of top recommendations but, instead of using `predcitAll` with every single movie the user hasn't rated yet, we will just pass the method a single entry with the movie we want to predict the rating for.  "
      ]
    },
    {
      "cell_type": "code",
      "execution_count": null,
      "metadata": {
        "id": "X4sB7qdunQr-"
      },
      "outputs": [],
      "source": [
        "my_movie = sc.parallelize([(0, 500)]) # Quiz Show (1994)\n",
        "individual_movie_rating_RDD = new_ratings_model.predictAll(new_user_unrated_movies_RDD)\n",
        "individual_movie_rating_RDD.take(1)"
      ]
    },
    {
      "cell_type": "markdown",
      "metadata": {
        "id": "N4zsI305nQr-"
      },
      "source": [
        "Not very likely that the new user will like that one... Obviously we can include as many movies as we need in that list!"
      ]
    },
    {
      "cell_type": "markdown",
      "metadata": {
        "id": "aXhk2TownQr-"
      },
      "source": [
        "##Persisting the model"
      ]
    },
    {
      "cell_type": "markdown",
      "metadata": {
        "id": "6kcC5NP6nQr_"
      },
      "source": [
        "Optionally, we might want to persist the base model for later use in our on-line recommendations. Although a new model is generated everytime we have new user ratings, it might be worth it to store the current one, in order to save time when starting up the server, etc. We might also save time if we persist some of the RDDs we have generated, specially those that took longer to process. For example, the following lines save and load a ALS model.      "
      ]
    },
    {
      "cell_type": "code",
      "execution_count": null,
      "metadata": {
        "id": "7i939CcPnQr_"
      },
      "outputs": [],
      "source": [
        "from pyspark.mllib.recommendation import MatrixFactorizationModel\n",
        "\n",
        "\n",
        "\n",
        "\n",
        "# Mount your Google Drive to access files\n",
        "drive.mount('/content/gdrive')\n",
        "\n",
        "# Create a directory for the datasets\n",
        "model_path = '/content/gdrive/My Drive/model'\n",
        "if not os.path.exists(model_path):\n",
        "    os.makedirs(model_path)\n",
        "\n",
        "model_path = os.path.join('..', 'models', 'movie_lens_als')\n",
        "\n",
        "# Save and load model\n",
        "model.save(sc, model_path)\n",
        "same_model = MatrixFactorizationModel.load(sc, model_path)"
      ]
    },
    {
      "cell_type": "markdown",
      "metadata": {
        "id": "aDYU5W3cnQr_"
      },
      "source": [
        "Among other things, you will see in your filesystem that there are folder with product and user data into [Parquet](https://parquet.apache.org/) format files.  "
      ]
    },
    {
      "cell_type": "markdown",
      "metadata": {
        "id": "LhxzzqixnQr_"
      },
      "source": [
        "##Genre and other fields"
      ]
    },
    {
      "cell_type": "markdown",
      "metadata": {
        "id": "XI6knLj_nQr_"
      },
      "source": [
        "We havent used the `genre` and `timestamp` fields in order to simplify the transformations and the whole tutorial. Incorporating them doesn't reprensent any problem. A good use could be filtering recommendations by any of them (e.g. recommendations by genre, or recent recommendations) like we have done with the minimum number of ratings.  "
      ]
    }
  ],
  "metadata": {
    "colab": {
      "provenance": []
    },
    "gpuClass": "standard",
    "kernelspec": {
      "display_name": "Python 3",
      "name": "python3"
    },
    "language_info": {
      "name": "python"
    }
  },
  "nbformat": 4,
  "nbformat_minor": 0
}
