{
  "cells": [
    {
      "cell_type": "code",
      "source": [
        "!java --version\n",
        "!python --version"
      ],
      "metadata": {
        "colab": {
          "base_uri": "https://localhost:8080/"
        },
        "id": "h0ZVf6Dsha0W",
        "outputId": "6659baff-8900-4daf-87bc-8dcc59872a89"
      },
      "id": "h0ZVf6Dsha0W",
      "execution_count": 30,
      "outputs": [
        {
          "output_type": "stream",
          "name": "stdout",
          "text": [
            "openjdk 11.0.18 2023-01-17\n",
            "OpenJDK Runtime Environment (build 11.0.18+10-post-Ubuntu-0ubuntu120.04.1)\n",
            "OpenJDK 64-Bit Server VM (build 11.0.18+10-post-Ubuntu-0ubuntu120.04.1, mixed mode, sharing)\n",
            "Python 3.9.16\n"
          ]
        }
      ]
    },
    {
      "cell_type": "code",
      "source": [
        "!pip install pyspark"
      ],
      "metadata": {
        "colab": {
          "base_uri": "https://localhost:8080/"
        },
        "id": "KE_mJa79hcwV",
        "outputId": "118921a9-2f7c-4a49-e732-17dd63d172ce"
      },
      "id": "KE_mJa79hcwV",
      "execution_count": 31,
      "outputs": [
        {
          "output_type": "stream",
          "name": "stdout",
          "text": [
            "Looking in indexes: https://pypi.org/simple, https://us-python.pkg.dev/colab-wheels/public/simple/\n",
            "Requirement already satisfied: pyspark in /usr/local/lib/python3.9/dist-packages (3.3.2)\n",
            "Requirement already satisfied: py4j==0.10.9.5 in /usr/local/lib/python3.9/dist-packages (from pyspark) (0.10.9.5)\n"
          ]
        }
      ]
    },
    {
      "cell_type": "code",
      "source": [
        "# Import Apache Spark SQL\n",
        "from pyspark.sql import SparkSession\n",
        "\n",
        "# Create Spark Session/Context\n",
        "# We are using local machine with all the CPU cores [*]\n",
        "spark = SparkSession.builder \\\n",
        "    .master(\"local[*]\") \\\n",
        "    .appName(\"Hello Pyspark\") \\\n",
        "    .config(\"spark.some.config.option\", \"some-value\") \\\n",
        "    .getOrCreate()"
      ],
      "metadata": {
        "id": "Qvt7Rq-6hgMs"
      },
      "id": "Qvt7Rq-6hgMs",
      "execution_count": 32,
      "outputs": []
    },
    {
      "cell_type": "code",
      "source": [
        "# Check spark session\n",
        "print(spark)"
      ],
      "metadata": {
        "colab": {
          "base_uri": "https://localhost:8080/"
        },
        "id": "9ThchHqqhiNf",
        "outputId": "b68478f7-7492-40eb-8034-87073ea315bd"
      },
      "id": "9ThchHqqhiNf",
      "execution_count": 33,
      "outputs": [
        {
          "output_type": "stream",
          "name": "stdout",
          "text": [
            "<pyspark.sql.session.SparkSession object at 0x7fb0ef76a940>\n"
          ]
        }
      ]
    },
    {
      "cell_type": "code",
      "execution_count": 34,
      "id": "7e9a0981",
      "metadata": {
        "id": "7e9a0981"
      },
      "outputs": [],
      "source": [
        "from pyspark.ml.evaluation import RegressionEvaluator\n",
        "from pyspark.ml.recommendation import ALS\n",
        "from pyspark.sql import Row"
      ]
    },
    {
      "cell_type": "code",
      "execution_count": 35,
      "id": "b362f8e0",
      "metadata": {
        "id": "b362f8e0"
      },
      "outputs": [],
      "source": [
        "lines = spark.read.text(\"/content/sample_movielens_ratings.txt\").rdd\n",
        "parts = lines.map(lambda row: row.value.split(\"::\"))\n",
        "ratingsRDD = parts.map(lambda p: Row(userId=int(p[0]), movieId=int(p[1]),\n",
        "                                     rating=float(p[2]), timestamp=int(p[3])))\n",
        "ratings = spark.createDataFrame(ratingsRDD)\n",
        "(training, test) = ratings.randomSplit([0.8, 0.2])"
      ]
    },
    {
      "cell_type": "markdown",
      "source": [
        "# maxIter = 5"
      ],
      "metadata": {
        "id": "94Vye3U2o6pS"
      },
      "id": "94Vye3U2o6pS"
    },
    {
      "cell_type": "markdown",
      "source": [
        "## regParam = 0.1"
      ],
      "metadata": {
        "id": "waT_JRVxmbPh"
      },
      "id": "waT_JRVxmbPh"
    },
    {
      "cell_type": "code",
      "execution_count": 36,
      "id": "4b353d45",
      "metadata": {
        "id": "4b353d45"
      },
      "outputs": [],
      "source": [
        "# Build the recommendation model using ALS on the training data\n",
        "# Note we set cold start strategy to 'drop' to ensure we don't get NaN evaluation metrics\n",
        "als = ALS(maxIter=5, regParam=0.1, userCol=\"userId\", itemCol=\"movieId\", ratingCol=\"rating\",\n",
        "          coldStartStrategy=\"drop\")\n",
        "model = als.fit(training)"
      ]
    },
    {
      "cell_type": "code",
      "execution_count": 37,
      "id": "ea3e5a3b",
      "metadata": {
        "id": "ea3e5a3b",
        "colab": {
          "base_uri": "https://localhost:8080/"
        },
        "outputId": "18558f06-39df-4a68-bffa-9e00ecf2fc4e"
      },
      "outputs": [
        {
          "output_type": "stream",
          "name": "stdout",
          "text": [
            "Root-mean-square error = 1.0146066361214776\n"
          ]
        }
      ],
      "source": [
        "# Evaluate the model by computing the RMSE on the test data\n",
        "predictions = model.transform(test)\n",
        "evaluator = RegressionEvaluator(metricName=\"rmse\", labelCol=\"rating\",\n",
        "                                predictionCol=\"prediction\")\n",
        "rmse = evaluator.evaluate(predictions)\n",
        "print(\"Root-mean-square error = \" + str(rmse))"
      ]
    },
    {
      "cell_type": "markdown",
      "source": [
        "## regParam = 0.5"
      ],
      "metadata": {
        "id": "q-tfqkixmsOi"
      },
      "id": "q-tfqkixmsOi"
    },
    {
      "cell_type": "code",
      "source": [
        "# Build the recommendation model using ALS on the training data\n",
        "# Note we set cold start strategy to 'drop' to ensure we don't get NaN evaluation metrics\n",
        "als1 = ALS(maxIter=5, regParam=0.5, userCol=\"userId\", itemCol=\"movieId\", ratingCol=\"rating\",\n",
        "          coldStartStrategy=\"drop\")\n",
        "model1 = als1.fit(training)"
      ],
      "metadata": {
        "id": "YjeHcu9VlxS7"
      },
      "id": "YjeHcu9VlxS7",
      "execution_count": 38,
      "outputs": []
    },
    {
      "cell_type": "code",
      "source": [
        "# Evaluate the model by computing the RMSE on the test data\n",
        "predictions1 = model1.transform(test)\n",
        "evaluator1 = RegressionEvaluator(metricName=\"rmse\", labelCol=\"rating\",\n",
        "                                predictionCol=\"prediction\")\n",
        "rmse1 = evaluator.evaluate(predictions1)\n",
        "print(\"Root-mean-square error = \" + str(rmse1))"
      ],
      "metadata": {
        "colab": {
          "base_uri": "https://localhost:8080/"
        },
        "id": "HX6b5yA4l9IS",
        "outputId": "e089ef4b-d53b-4be5-8755-6f6d619ddf8c"
      },
      "id": "HX6b5yA4l9IS",
      "execution_count": 39,
      "outputs": [
        {
          "output_type": "stream",
          "name": "stdout",
          "text": [
            "Root-mean-square error = 1.2146362150064365\n"
          ]
        }
      ]
    },
    {
      "cell_type": "markdown",
      "source": [
        "## regParam = 1.0"
      ],
      "metadata": {
        "id": "Yutj30YNn9Rp"
      },
      "id": "Yutj30YNn9Rp"
    },
    {
      "cell_type": "code",
      "source": [
        "# Build the recommendation model using ALS on the training data\n",
        "# Note we set cold start strategy to 'drop' to ensure we don't get NaN evaluation metrics\n",
        "als2 = ALS(maxIter=5, regParam=1.0, userCol=\"userId\", itemCol=\"movieId\", ratingCol=\"rating\",\n",
        "          coldStartStrategy=\"drop\")\n",
        "model2 = als2.fit(training)"
      ],
      "metadata": {
        "id": "oYEAtjP_nj6P"
      },
      "execution_count": 40,
      "outputs": [],
      "id": "oYEAtjP_nj6P"
    },
    {
      "cell_type": "code",
      "source": [
        "# Evaluate the model by computing the RMSE on the test data\n",
        "predictions2 = model2.transform(test)\n",
        "evaluator2 = RegressionEvaluator(metricName=\"rmse\", labelCol=\"rating\",\n",
        "                                predictionCol=\"prediction\")\n",
        "rmse2 = evaluator.evaluate(predictions2)\n",
        "print(\"Root-mean-square error = \" + str(rmse2))"
      ],
      "metadata": {
        "colab": {
          "base_uri": "https://localhost:8080/"
        },
        "outputId": "199a499b-3c4f-4c52-bb70-3d9faf3469dd",
        "id": "FZL2BmKvnmlJ"
      },
      "execution_count": 41,
      "outputs": [
        {
          "output_type": "stream",
          "name": "stdout",
          "text": [
            "Root-mean-square error = 1.4815544500971018\n"
          ]
        }
      ],
      "id": "FZL2BmKvnmlJ"
    },
    {
      "cell_type": "markdown",
      "source": [
        "# maxIter = 10"
      ],
      "metadata": {
        "id": "tsrRlSLWpLE4"
      },
      "id": "tsrRlSLWpLE4"
    },
    {
      "cell_type": "markdown",
      "source": [
        "## regParam = 0.1"
      ],
      "metadata": {
        "id": "879VqOD4pLE6"
      },
      "id": "879VqOD4pLE6"
    },
    {
      "cell_type": "code",
      "execution_count": 42,
      "metadata": {
        "id": "X8U7YrmOpLE7"
      },
      "outputs": [],
      "source": [
        "# Build the recommendation model using ALS on the training data\n",
        "# Note we set cold start strategy to 'drop' to ensure we don't get NaN evaluation metrics\n",
        "als3 = ALS(maxIter=10, regParam=0.1, userCol=\"userId\", itemCol=\"movieId\", ratingCol=\"rating\",\n",
        "          coldStartStrategy=\"drop\")\n",
        "model3 = als3.fit(training)"
      ],
      "id": "X8U7YrmOpLE7"
    },
    {
      "cell_type": "code",
      "execution_count": 43,
      "metadata": {
        "colab": {
          "base_uri": "https://localhost:8080/"
        },
        "outputId": "2204733e-d11f-4820-f7fa-ccc894ab6c48",
        "id": "7NCnzK0GpLE8"
      },
      "outputs": [
        {
          "output_type": "stream",
          "name": "stdout",
          "text": [
            "Root-mean-square error = 0.9640166302412116\n"
          ]
        }
      ],
      "source": [
        "# Evaluate the model by computing the RMSE on the test data\n",
        "predictions3 = model3.transform(test)\n",
        "evaluator3 = RegressionEvaluator(metricName=\"rmse\", labelCol=\"rating\",\n",
        "                                predictionCol=\"prediction\")\n",
        "rmse3 = evaluator.evaluate(predictions3)\n",
        "print(\"Root-mean-square error = \" + str(rmse3))"
      ],
      "id": "7NCnzK0GpLE8"
    },
    {
      "cell_type": "markdown",
      "source": [
        "## regParam = 0.5"
      ],
      "metadata": {
        "id": "HIdSC3IxpLE-"
      },
      "id": "HIdSC3IxpLE-"
    },
    {
      "cell_type": "code",
      "source": [
        "# Build the recommendation model using ALS on the training data\n",
        "# Note we set cold start strategy to 'drop' to ensure we don't get NaN evaluation metrics\n",
        "als4 = ALS(maxIter=10, regParam=0.5, userCol=\"userId\", itemCol=\"movieId\", ratingCol=\"rating\",\n",
        "          coldStartStrategy=\"drop\")\n",
        "model4 = als4.fit(training)"
      ],
      "metadata": {
        "id": "slxJNXmdpLE_"
      },
      "execution_count": 44,
      "outputs": [],
      "id": "slxJNXmdpLE_"
    },
    {
      "cell_type": "code",
      "source": [
        "# Evaluate the model by computing the RMSE on the test data\n",
        "predictions4 = model4.transform(test)\n",
        "evaluator4 = RegressionEvaluator(metricName=\"rmse\", labelCol=\"rating\",\n",
        "                                predictionCol=\"prediction\")\n",
        "rmse4 = evaluator.evaluate(predictions4)\n",
        "print(\"Root-mean-square error = \" + str(rmse4))"
      ],
      "metadata": {
        "colab": {
          "base_uri": "https://localhost:8080/"
        },
        "outputId": "5963fa82-595e-4f89-c4bf-89dc9b772109",
        "id": "pGtiXqYwpLFA"
      },
      "execution_count": 45,
      "outputs": [
        {
          "output_type": "stream",
          "name": "stdout",
          "text": [
            "Root-mean-square error = 1.2113918395225025\n"
          ]
        }
      ],
      "id": "pGtiXqYwpLFA"
    },
    {
      "cell_type": "markdown",
      "source": [
        "## regParam = 1.0"
      ],
      "metadata": {
        "id": "12gRqpdRpLFB"
      },
      "id": "12gRqpdRpLFB"
    },
    {
      "cell_type": "code",
      "source": [
        "# Build the recommendation model using ALS on the training data\n",
        "# Note we set cold start strategy to 'drop' to ensure we don't get NaN evaluation metrics\n",
        "als5 = ALS(maxIter=10, regParam=1.0, userCol=\"userId\", itemCol=\"movieId\", ratingCol=\"rating\",\n",
        "          coldStartStrategy=\"drop\")\n",
        "model5 = als5.fit(training)"
      ],
      "metadata": {
        "id": "vaWgigG3pLFC"
      },
      "execution_count": 46,
      "outputs": [],
      "id": "vaWgigG3pLFC"
    },
    {
      "cell_type": "code",
      "source": [
        "# Evaluate the model by computing the RMSE on the test data\n",
        "predictions5 = model5.transform(test)\n",
        "evaluator5 = RegressionEvaluator(metricName=\"rmse\", labelCol=\"rating\",\n",
        "                                predictionCol=\"prediction\")\n",
        "rmse5 = evaluator.evaluate(predictions5)\n",
        "print(\"Root-mean-square error = \" + str(rmse5))"
      ],
      "metadata": {
        "colab": {
          "base_uri": "https://localhost:8080/"
        },
        "outputId": "bd2cd69d-c4fc-4c23-b3ff-fd1047281660",
        "id": "aIEpMA6fpLFC"
      },
      "execution_count": 47,
      "outputs": [
        {
          "output_type": "stream",
          "name": "stdout",
          "text": [
            "Root-mean-square error = 1.4815608073452533\n"
          ]
        }
      ],
      "id": "aIEpMA6fpLFC"
    },
    {
      "cell_type": "markdown",
      "source": [
        "# maxIter = 20"
      ],
      "metadata": {
        "id": "QQW-ehNXqbx9"
      },
      "id": "QQW-ehNXqbx9"
    },
    {
      "cell_type": "markdown",
      "source": [
        "## regParam = 0.1"
      ],
      "metadata": {
        "id": "1VTT5h0iqbyT"
      },
      "id": "1VTT5h0iqbyT"
    },
    {
      "cell_type": "code",
      "execution_count": 48,
      "metadata": {
        "id": "Mi3gwfLuqbyU"
      },
      "outputs": [],
      "source": [
        "# Build the recommendation model using ALS on the training data\n",
        "# Note we set cold start strategy to 'drop' to ensure we don't get NaN evaluation metrics\n",
        "als6 = ALS(maxIter=20, regParam=0.1, userCol=\"userId\", itemCol=\"movieId\", ratingCol=\"rating\",\n",
        "          coldStartStrategy=\"drop\")\n",
        "model6 = als6.fit(training)"
      ],
      "id": "Mi3gwfLuqbyU"
    },
    {
      "cell_type": "code",
      "execution_count": 49,
      "metadata": {
        "colab": {
          "base_uri": "https://localhost:8080/"
        },
        "outputId": "1cf77615-0e25-4358-ea3b-092329184ba2",
        "id": "F0AM8jg_qbyV"
      },
      "outputs": [
        {
          "output_type": "stream",
          "name": "stdout",
          "text": [
            "Root-mean-square error = 0.941851252725291\n"
          ]
        }
      ],
      "source": [
        "# Evaluate the model by computing the RMSE on the test data\n",
        "predictions6 = model6.transform(test)\n",
        "evaluator6 = RegressionEvaluator(metricName=\"rmse\", labelCol=\"rating\",\n",
        "                                predictionCol=\"prediction\")\n",
        "rmse6 = evaluator.evaluate(predictions6)\n",
        "print(\"Root-mean-square error = \" + str(rmse6))"
      ],
      "id": "F0AM8jg_qbyV"
    },
    {
      "cell_type": "markdown",
      "source": [
        "## regParam = 0.5"
      ],
      "metadata": {
        "id": "oGLjAUx_qbyX"
      },
      "id": "oGLjAUx_qbyX"
    },
    {
      "cell_type": "code",
      "source": [
        "# Build the recommendation model using ALS on the training data\n",
        "# Note we set cold start strategy to 'drop' to ensure we don't get NaN evaluation metrics\n",
        "als7 = ALS(maxIter=20, regParam=0.5, userCol=\"userId\", itemCol=\"movieId\", ratingCol=\"rating\",\n",
        "          coldStartStrategy=\"drop\")\n",
        "model7 = als7.fit(training)"
      ],
      "metadata": {
        "id": "5ezb5KBoqbyX"
      },
      "execution_count": 50,
      "outputs": [],
      "id": "5ezb5KBoqbyX"
    },
    {
      "cell_type": "code",
      "source": [
        "# Evaluate the model by computing the RMSE on the test data\n",
        "predictions7 = model7.transform(test)\n",
        "evaluator7 = RegressionEvaluator(metricName=\"rmse\", labelCol=\"rating\",\n",
        "                                predictionCol=\"prediction\")\n",
        "rmse7 = evaluator.evaluate(predictions7)\n",
        "print(\"Root-mean-square error = \" + str(rmse7))"
      ],
      "metadata": {
        "colab": {
          "base_uri": "https://localhost:8080/"
        },
        "outputId": "d460bfda-45d9-4c4a-f84c-f3dd3bf3b2d7",
        "id": "mXHMej6TqbyY"
      },
      "execution_count": 51,
      "outputs": [
        {
          "output_type": "stream",
          "name": "stdout",
          "text": [
            "Root-mean-square error = 1.211892353780886\n"
          ]
        }
      ],
      "id": "mXHMej6TqbyY"
    },
    {
      "cell_type": "markdown",
      "source": [
        "## regParam = 1.0"
      ],
      "metadata": {
        "id": "mfhJGmIzqbyZ"
      },
      "id": "mfhJGmIzqbyZ"
    },
    {
      "cell_type": "code",
      "source": [
        "# Build the recommendation model using ALS on the training data\n",
        "# Note we set cold start strategy to 'drop' to ensure we don't get NaN evaluation metrics\n",
        "als8 = ALS(maxIter=20, regParam=1.0, userCol=\"userId\", itemCol=\"movieId\", ratingCol=\"rating\",\n",
        "          coldStartStrategy=\"drop\")\n",
        "model8 = als8.fit(training)"
      ],
      "metadata": {
        "id": "XeXemKMHqbyZ"
      },
      "execution_count": 52,
      "outputs": [],
      "id": "XeXemKMHqbyZ"
    },
    {
      "cell_type": "code",
      "source": [
        "# Evaluate the model by computing the RMSE on the test data\n",
        "predictions8 = model8.transform(test)\n",
        "evaluator8 = RegressionEvaluator(metricName=\"rmse\", labelCol=\"rating\",\n",
        "                                predictionCol=\"prediction\")\n",
        "rmse8 = evaluator.evaluate(predictions8)\n",
        "print(\"Root-mean-square error = \" + str(rmse8))"
      ],
      "metadata": {
        "colab": {
          "base_uri": "https://localhost:8080/"
        },
        "outputId": "be751dac-a113-47f2-8bf4-4da938c6018f",
        "id": "FlVYsbwDqbya"
      },
      "execution_count": 53,
      "outputs": [
        {
          "output_type": "stream",
          "name": "stdout",
          "text": [
            "Root-mean-square error = 1.48156082108903\n"
          ]
        }
      ],
      "id": "FlVYsbwDqbya"
    },
    {
      "cell_type": "markdown",
      "source": [
        "# Comparation"
      ],
      "metadata": {
        "id": "tHrn4qyDsPsA"
      },
      "id": "tHrn4qyDsPsA"
    },
    {
      "cell_type": "markdown",
      "source": [
        "## maxIter = 5"
      ],
      "metadata": {
        "id": "kWGunTbascoA"
      },
      "id": "kWGunTbascoA"
    },
    {
      "cell_type": "code",
      "source": [
        "print(\"Root-mean-square error (regParam = 0.1) = \" + str(rmse))\n",
        "print(\"Root-mean-square error (regParam = 0.5) = \" + str(rmse1))\n",
        "print(\"Root-mean-square error (regParam = 1.0) = \" + str(rmse2))"
      ],
      "metadata": {
        "colab": {
          "base_uri": "https://localhost:8080/"
        },
        "id": "VFCrJUeNsVf3",
        "outputId": "a6276a0a-346c-439b-b30a-fb0f6a2c87d5"
      },
      "id": "VFCrJUeNsVf3",
      "execution_count": 56,
      "outputs": [
        {
          "output_type": "stream",
          "name": "stdout",
          "text": [
            "Root-mean-square error (regParam = 0.1) = 1.0146066361214776\n",
            "Root-mean-square error (regParam = 0.5) = 1.2146362150064365\n",
            "Root-mean-square error (regParam = 1.0) = 1.4815544500971018\n"
          ]
        }
      ]
    },
    {
      "cell_type": "markdown",
      "source": [
        "## maxIter = 10"
      ],
      "metadata": {
        "id": "F2SsRLMNsyQc"
      },
      "id": "F2SsRLMNsyQc"
    },
    {
      "cell_type": "code",
      "source": [
        "print(\"Root-mean-square error (regParam = 0.1) = \" + str(rmse3))\n",
        "print(\"Root-mean-square error (regParam = 0.5) = \" + str(rmse4))\n",
        "print(\"Root-mean-square error (regParam = 1.0) = \" + str(rmse5))"
      ],
      "metadata": {
        "colab": {
          "base_uri": "https://localhost:8080/"
        },
        "outputId": "b7f64e9c-6a46-4269-89ce-dd1a9ada6bd2",
        "id": "1UtrsLcfsyQd"
      },
      "execution_count": 57,
      "outputs": [
        {
          "output_type": "stream",
          "name": "stdout",
          "text": [
            "Root-mean-square error (regParam = 0.1) = 0.9640166302412116\n",
            "Root-mean-square error (regParam = 0.5) = 1.2113918395225025\n",
            "Root-mean-square error (regParam = 1.0) = 1.4815608073452533\n"
          ]
        }
      ],
      "id": "1UtrsLcfsyQd"
    },
    {
      "cell_type": "markdown",
      "source": [
        "## maxIter = 20"
      ],
      "metadata": {
        "id": "P9vh-y-xsyfA"
      },
      "id": "P9vh-y-xsyfA"
    },
    {
      "cell_type": "code",
      "source": [
        "print(\"Root-mean-square error (regParam = 0.1) = \" + str(rmse6))\n",
        "print(\"Root-mean-square error (regParam = 0.5) = \" + str(rmse7))\n",
        "print(\"Root-mean-square error (regParam = 1.0) = \" + str(rmse8))"
      ],
      "metadata": {
        "colab": {
          "base_uri": "https://localhost:8080/"
        },
        "outputId": "51238047-23c4-4d0a-fb54-e967952f9520",
        "id": "9CQhMHbFsyfB"
      },
      "execution_count": 58,
      "outputs": [
        {
          "output_type": "stream",
          "name": "stdout",
          "text": [
            "Root-mean-square error (regParam = 0.1) = 0.941851252725291\n",
            "Root-mean-square error (regParam = 0.5) = 1.211892353780886\n",
            "Root-mean-square error (regParam = 1.0) = 1.48156082108903\n"
          ]
        }
      ],
      "id": "9CQhMHbFsyfB"
    },
    {
      "cell_type": "markdown",
      "source": [
        "# Conclusion\n",
        "\n",
        "The Root-mean-square error (RMSE) appears to decrease when the `maxIter `parameter value increases for all values of `regParam`. Increases in `maxIter` from 5 to 10 or 20 specifically led to lower values of RMSE for each value of regParam.\n",
        "Additionally, regardless of the value of the `maxIter` parameter, it appears that raising the `regParam` parameter often results in greater values of RMSE. But in this case `maxIter = 20` and `regParam = 0.1` has lowest RMSE than other, that indicates a better fit of the regression model to the data."
      ],
      "metadata": {
        "id": "FGqXZDecuj9K"
      },
      "id": "FGqXZDecuj9K"
    },
    {
      "cell_type": "markdown",
      "source": [
        "# Generate to 10 movie"
      ],
      "metadata": {
        "id": "PycmMAiuodWK"
      },
      "id": "PycmMAiuodWK"
    },
    {
      "cell_type": "code",
      "execution_count": 54,
      "id": "ee868927",
      "metadata": {
        "id": "ee868927"
      },
      "outputs": [],
      "source": [
        "# Generate top 10 movie recommendations for each user\n",
        "userRecs = model.recommendForAllUsers(10)\n",
        "# Generate top 10 user recommendations for each movie\n",
        "movieRecs = model.recommendForAllItems(10)"
      ]
    },
    {
      "cell_type": "code",
      "execution_count": 55,
      "id": "4c794d30",
      "metadata": {
        "id": "4c794d30"
      },
      "outputs": [],
      "source": [
        "# Generate top 10 movie recommendations for a specified set of users\n",
        "users = ratings.select(als.getUserCol()).distinct().limit(3)\n",
        "userSubsetRecs = model.recommendForUserSubset(users, 10)\n",
        "# Generate top 10 user recommendations for a specified set of movies\n",
        "movies = ratings.select(als.getItemCol()).distinct().limit(3)\n",
        "movieSubSetRecs = model.recommendForItemSubset(movies, 10)"
      ]
    }
  ],
  "metadata": {
    "kernelspec": {
      "display_name": "Python 3 (ipykernel)",
      "language": "python",
      "name": "python3"
    },
    "language_info": {
      "codemirror_mode": {
        "name": "ipython",
        "version": 3
      },
      "file_extension": ".py",
      "mimetype": "text/x-python",
      "name": "python",
      "nbconvert_exporter": "python",
      "pygments_lexer": "ipython3",
      "version": "3.10.9"
    },
    "colab": {
      "provenance": []
    }
  },
  "nbformat": 4,
  "nbformat_minor": 5
}